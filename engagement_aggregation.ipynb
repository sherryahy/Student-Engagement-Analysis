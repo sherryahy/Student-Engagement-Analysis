{
 "cells": [
  {
   "cell_type": "markdown",
   "metadata": {},
   "source": [
    "# Engagement Aggregation"
   ]
  },
  {
   "cell_type": "code",
   "execution_count": 3,
   "metadata": {},
   "outputs": [],
   "source": [
    "import pandas as pd\n",
    "import numpy as np"
   ]
  },
  {
   "cell_type": "code",
   "execution_count": 4,
   "metadata": {},
   "outputs": [],
   "source": [
    "df=pd.read_csv('engagement_concat_not_nan.csv')"
   ]
  },
  {
   "cell_type": "code",
   "execution_count": 5,
   "metadata": {},
   "outputs": [
    {
     "data": {
      "text/html": [
       "<div>\n",
       "<style scoped>\n",
       "    .dataframe tbody tr th:only-of-type {\n",
       "        vertical-align: middle;\n",
       "    }\n",
       "\n",
       "    .dataframe tbody tr th {\n",
       "        vertical-align: top;\n",
       "    }\n",
       "\n",
       "    .dataframe thead th {\n",
       "        text-align: right;\n",
       "    }\n",
       "</style>\n",
       "<table border=\"1\" class=\"dataframe\">\n",
       "  <thead>\n",
       "    <tr style=\"text-align: right;\">\n",
       "      <th></th>\n",
       "      <th>time</th>\n",
       "      <th>lp_id</th>\n",
       "      <th>pct_access</th>\n",
       "      <th>engagement_index</th>\n",
       "      <th>district_id</th>\n",
       "    </tr>\n",
       "  </thead>\n",
       "  <tbody>\n",
       "    <tr>\n",
       "      <th>0</th>\n",
       "      <td>2020-01-01</td>\n",
       "      <td>32213.0</td>\n",
       "      <td>0.41</td>\n",
       "      <td>18.49</td>\n",
       "      <td>7305</td>\n",
       "    </tr>\n",
       "    <tr>\n",
       "      <th>1</th>\n",
       "      <td>2020-01-01</td>\n",
       "      <td>51340.0</td>\n",
       "      <td>0.07</td>\n",
       "      <td>6.85</td>\n",
       "      <td>7305</td>\n",
       "    </tr>\n",
       "    <tr>\n",
       "      <th>2</th>\n",
       "      <td>2020-01-01</td>\n",
       "      <td>49062.0</td>\n",
       "      <td>0.07</td>\n",
       "      <td>6.16</td>\n",
       "      <td>7305</td>\n",
       "    </tr>\n",
       "    <tr>\n",
       "      <th>3</th>\n",
       "      <td>2020-01-01</td>\n",
       "      <td>99916.0</td>\n",
       "      <td>0.41</td>\n",
       "      <td>10.27</td>\n",
       "      <td>7305</td>\n",
       "    </tr>\n",
       "    <tr>\n",
       "      <th>4</th>\n",
       "      <td>2020-01-01</td>\n",
       "      <td>95731.0</td>\n",
       "      <td>0.68</td>\n",
       "      <td>47.26</td>\n",
       "      <td>7305</td>\n",
       "    </tr>\n",
       "  </tbody>\n",
       "</table>\n",
       "</div>"
      ],
      "text/plain": [
       "         time    lp_id  pct_access  engagement_index  district_id\n",
       "0  2020-01-01  32213.0        0.41             18.49         7305\n",
       "1  2020-01-01  51340.0        0.07              6.85         7305\n",
       "2  2020-01-01  49062.0        0.07              6.16         7305\n",
       "3  2020-01-01  99916.0        0.41             10.27         7305\n",
       "4  2020-01-01  95731.0        0.68             47.26         7305"
      ]
     },
     "execution_count": 5,
     "metadata": {},
     "output_type": "execute_result"
    }
   ],
   "source": [
    "df.head()"
   ]
  },
  {
   "cell_type": "code",
   "execution_count": 14,
   "metadata": {},
   "outputs": [
    {
     "data": {
      "text/plain": [
       "176"
      ]
     },
     "execution_count": 14,
     "metadata": {},
     "output_type": "execute_result"
    }
   ],
   "source": [
    "df.district_id.nunique()"
   ]
  },
  {
   "cell_type": "code",
   "execution_count": 15,
   "metadata": {},
   "outputs": [
    {
     "data": {
      "text/plain": [
       "time                 object\n",
       "lp_id               float64\n",
       "pct_access          float64\n",
       "engagement_index    float64\n",
       "district_id           int64\n",
       "dtype: object"
      ]
     },
     "execution_count": 15,
     "metadata": {},
     "output_type": "execute_result"
    }
   ],
   "source": [
    "df.dtypes"
   ]
  },
  {
   "cell_type": "code",
   "execution_count": null,
   "metadata": {},
   "outputs": [],
   "source": []
  },
  {
   "cell_type": "code",
   "execution_count": 21,
   "metadata": {},
   "outputs": [],
   "source": [
    "district=pd.read_csv('district_not_nan.csv')"
   ]
  },
  {
   "cell_type": "code",
   "execution_count": 22,
   "metadata": {},
   "outputs": [
    {
     "data": {
      "text/html": [
       "<div>\n",
       "<style scoped>\n",
       "    .dataframe tbody tr th:only-of-type {\n",
       "        vertical-align: middle;\n",
       "    }\n",
       "\n",
       "    .dataframe tbody tr th {\n",
       "        vertical-align: top;\n",
       "    }\n",
       "\n",
       "    .dataframe thead th {\n",
       "        text-align: right;\n",
       "    }\n",
       "</style>\n",
       "<table border=\"1\" class=\"dataframe\">\n",
       "  <thead>\n",
       "    <tr style=\"text-align: right;\">\n",
       "      <th></th>\n",
       "      <th>district_id</th>\n",
       "      <th>state</th>\n",
       "      <th>locale</th>\n",
       "      <th>pct_black/hispanic</th>\n",
       "      <th>pct_free/reduced</th>\n",
       "      <th>county_connections_ratio</th>\n",
       "      <th>pp_total_raw</th>\n",
       "    </tr>\n",
       "  </thead>\n",
       "  <tbody>\n",
       "    <tr>\n",
       "      <th>0</th>\n",
       "      <td>8815</td>\n",
       "      <td>Illinois</td>\n",
       "      <td>Suburb</td>\n",
       "      <td>[0, 0.2[</td>\n",
       "      <td>[0, 0.2[</td>\n",
       "      <td>[0.18, 1[</td>\n",
       "      <td>[14000, 16000[</td>\n",
       "    </tr>\n",
       "    <tr>\n",
       "      <th>1</th>\n",
       "      <td>4921</td>\n",
       "      <td>Utah</td>\n",
       "      <td>Suburb</td>\n",
       "      <td>[0, 0.2[</td>\n",
       "      <td>[0.2, 0.4[</td>\n",
       "      <td>[0.18, 1[</td>\n",
       "      <td>[6000, 8000[</td>\n",
       "    </tr>\n",
       "    <tr>\n",
       "      <th>2</th>\n",
       "      <td>5987</td>\n",
       "      <td>Wisconsin</td>\n",
       "      <td>Suburb</td>\n",
       "      <td>[0, 0.2[</td>\n",
       "      <td>[0, 0.2[</td>\n",
       "      <td>[0.18, 1[</td>\n",
       "      <td>[10000, 12000[</td>\n",
       "    </tr>\n",
       "    <tr>\n",
       "      <th>3</th>\n",
       "      <td>3710</td>\n",
       "      <td>Utah</td>\n",
       "      <td>Suburb</td>\n",
       "      <td>[0, 0.2[</td>\n",
       "      <td>[0.4, 0.6[</td>\n",
       "      <td>[0.18, 1[</td>\n",
       "      <td>[6000, 8000[</td>\n",
       "    </tr>\n",
       "    <tr>\n",
       "      <th>4</th>\n",
       "      <td>7177</td>\n",
       "      <td>North Carolina</td>\n",
       "      <td>Suburb</td>\n",
       "      <td>[0.2, 0.4[</td>\n",
       "      <td>[0.2, 0.4[</td>\n",
       "      <td>[0.18, 1[</td>\n",
       "      <td>[8000, 10000[</td>\n",
       "    </tr>\n",
       "  </tbody>\n",
       "</table>\n",
       "</div>"
      ],
      "text/plain": [
       "   district_id           state  locale pct_black/hispanic pct_free/reduced  \\\n",
       "0         8815        Illinois  Suburb           [0, 0.2[         [0, 0.2[   \n",
       "1         4921            Utah  Suburb           [0, 0.2[       [0.2, 0.4[   \n",
       "2         5987       Wisconsin  Suburb           [0, 0.2[         [0, 0.2[   \n",
       "3         3710            Utah  Suburb           [0, 0.2[       [0.4, 0.6[   \n",
       "4         7177  North Carolina  Suburb         [0.2, 0.4[       [0.2, 0.4[   \n",
       "\n",
       "  county_connections_ratio    pp_total_raw  \n",
       "0                [0.18, 1[  [14000, 16000[  \n",
       "1                [0.18, 1[    [6000, 8000[  \n",
       "2                [0.18, 1[  [10000, 12000[  \n",
       "3                [0.18, 1[    [6000, 8000[  \n",
       "4                [0.18, 1[   [8000, 10000[  "
      ]
     },
     "execution_count": 22,
     "metadata": {},
     "output_type": "execute_result"
    }
   ],
   "source": [
    "district.head()"
   ]
  },
  {
   "cell_type": "code",
   "execution_count": 8,
   "metadata": {},
   "outputs": [
    {
     "data": {
      "text/plain": [
       "(176, 8)"
      ]
     },
     "execution_count": 8,
     "metadata": {},
     "output_type": "execute_result"
    }
   ],
   "source": [
    "district.shape"
   ]
  },
  {
   "cell_type": "code",
   "execution_count": 11,
   "metadata": {},
   "outputs": [
    {
     "data": {
      "text/plain": [
       "array(['Illinois', 'Utah', 'Wisconsin', 'North Carolina', 'Missouri',\n",
       "       'Washington', 'Connecticut', 'Massachusetts', 'New York',\n",
       "       'Indiana', 'Virginia', 'Ohio', 'New Jersey', 'California',\n",
       "       'District Of Columbia', 'Minnesota', 'Arizona', 'Texas',\n",
       "       'Tennessee', 'Florida', 'North Dakota', 'New Hampshire',\n",
       "       'Michigan'], dtype=object)"
      ]
     },
     "execution_count": 11,
     "metadata": {},
     "output_type": "execute_result"
    }
   ],
   "source": [
    "district['state'].unique()"
   ]
  },
  {
   "cell_type": "code",
   "execution_count": 12,
   "metadata": {},
   "outputs": [
    {
     "data": {
      "text/plain": [
       "23"
      ]
     },
     "execution_count": 12,
     "metadata": {},
     "output_type": "execute_result"
    }
   ],
   "source": [
    "district['state'].nunique()"
   ]
  },
  {
   "cell_type": "code",
   "execution_count": 13,
   "metadata": {},
   "outputs": [
    {
     "data": {
      "text/plain": [
       "array(['Suburb', 'Rural', 'City', 'Town'], dtype=object)"
      ]
     },
     "execution_count": 13,
     "metadata": {},
     "output_type": "execute_result"
    }
   ],
   "source": [
    "district['locale'].unique()"
   ]
  },
  {
   "cell_type": "code",
   "execution_count": 16,
   "metadata": {},
   "outputs": [
    {
     "data": {
      "text/plain": [
       "Unnamed: 0                   int64\n",
       "district_id                  int64\n",
       "state                       object\n",
       "locale                      object\n",
       "pct_black/hispanic          object\n",
       "pct_free/reduced            object\n",
       "county_connections_ratio    object\n",
       "pp_total_raw                object\n",
       "dtype: object"
      ]
     },
     "execution_count": 16,
     "metadata": {},
     "output_type": "execute_result"
    }
   ],
   "source": [
    "district.dtypes"
   ]
  },
  {
   "cell_type": "code",
   "execution_count": null,
   "metadata": {},
   "outputs": [],
   "source": []
  },
  {
   "cell_type": "markdown",
   "metadata": {},
   "source": [
    "## Merge engagement data and district info on district_id"
   ]
  },
  {
   "cell_type": "code",
   "execution_count": 23,
   "metadata": {},
   "outputs": [],
   "source": [
    "dis_eng_data = pd.merge(district, df, left_on='district_id', right_on='district_id')"
   ]
  },
  {
   "cell_type": "code",
   "execution_count": 24,
   "metadata": {},
   "outputs": [
    {
     "data": {
      "text/html": [
       "<div>\n",
       "<style scoped>\n",
       "    .dataframe tbody tr th:only-of-type {\n",
       "        vertical-align: middle;\n",
       "    }\n",
       "\n",
       "    .dataframe tbody tr th {\n",
       "        vertical-align: top;\n",
       "    }\n",
       "\n",
       "    .dataframe thead th {\n",
       "        text-align: right;\n",
       "    }\n",
       "</style>\n",
       "<table border=\"1\" class=\"dataframe\">\n",
       "  <thead>\n",
       "    <tr style=\"text-align: right;\">\n",
       "      <th></th>\n",
       "      <th>district_id</th>\n",
       "      <th>state</th>\n",
       "      <th>locale</th>\n",
       "      <th>pct_black/hispanic</th>\n",
       "      <th>pct_free/reduced</th>\n",
       "      <th>county_connections_ratio</th>\n",
       "      <th>pp_total_raw</th>\n",
       "      <th>time</th>\n",
       "      <th>lp_id</th>\n",
       "      <th>pct_access</th>\n",
       "      <th>engagement_index</th>\n",
       "    </tr>\n",
       "  </thead>\n",
       "  <tbody>\n",
       "    <tr>\n",
       "      <th>0</th>\n",
       "      <td>8815</td>\n",
       "      <td>Illinois</td>\n",
       "      <td>Suburb</td>\n",
       "      <td>[0, 0.2[</td>\n",
       "      <td>[0, 0.2[</td>\n",
       "      <td>[0.18, 1[</td>\n",
       "      <td>[14000, 16000[</td>\n",
       "      <td>2020-01-27</td>\n",
       "      <td>32213.0</td>\n",
       "      <td>100.00</td>\n",
       "      <td>3000.00</td>\n",
       "    </tr>\n",
       "    <tr>\n",
       "      <th>1</th>\n",
       "      <td>8815</td>\n",
       "      <td>Illinois</td>\n",
       "      <td>Suburb</td>\n",
       "      <td>[0, 0.2[</td>\n",
       "      <td>[0, 0.2[</td>\n",
       "      <td>[0.18, 1[</td>\n",
       "      <td>[14000, 16000[</td>\n",
       "      <td>2020-02-25</td>\n",
       "      <td>90153.0</td>\n",
       "      <td>33.33</td>\n",
       "      <td>2666.67</td>\n",
       "    </tr>\n",
       "    <tr>\n",
       "      <th>2</th>\n",
       "      <td>8815</td>\n",
       "      <td>Illinois</td>\n",
       "      <td>Suburb</td>\n",
       "      <td>[0, 0.2[</td>\n",
       "      <td>[0, 0.2[</td>\n",
       "      <td>[0.18, 1[</td>\n",
       "      <td>[14000, 16000[</td>\n",
       "      <td>2020-02-25</td>\n",
       "      <td>99916.0</td>\n",
       "      <td>0.00</td>\n",
       "      <td>NaN</td>\n",
       "    </tr>\n",
       "    <tr>\n",
       "      <th>3</th>\n",
       "      <td>8815</td>\n",
       "      <td>Illinois</td>\n",
       "      <td>Suburb</td>\n",
       "      <td>[0, 0.2[</td>\n",
       "      <td>[0, 0.2[</td>\n",
       "      <td>[0.18, 1[</td>\n",
       "      <td>[14000, 16000[</td>\n",
       "      <td>2020-02-25</td>\n",
       "      <td>28504.0</td>\n",
       "      <td>0.00</td>\n",
       "      <td>NaN</td>\n",
       "    </tr>\n",
       "    <tr>\n",
       "      <th>4</th>\n",
       "      <td>8815</td>\n",
       "      <td>Illinois</td>\n",
       "      <td>Suburb</td>\n",
       "      <td>[0, 0.2[</td>\n",
       "      <td>[0, 0.2[</td>\n",
       "      <td>[0.18, 1[</td>\n",
       "      <td>[14000, 16000[</td>\n",
       "      <td>2020-02-25</td>\n",
       "      <td>95731.0</td>\n",
       "      <td>33.33</td>\n",
       "      <td>333.33</td>\n",
       "    </tr>\n",
       "  </tbody>\n",
       "</table>\n",
       "</div>"
      ],
      "text/plain": [
       "   district_id     state  locale pct_black/hispanic pct_free/reduced  \\\n",
       "0         8815  Illinois  Suburb           [0, 0.2[         [0, 0.2[   \n",
       "1         8815  Illinois  Suburb           [0, 0.2[         [0, 0.2[   \n",
       "2         8815  Illinois  Suburb           [0, 0.2[         [0, 0.2[   \n",
       "3         8815  Illinois  Suburb           [0, 0.2[         [0, 0.2[   \n",
       "4         8815  Illinois  Suburb           [0, 0.2[         [0, 0.2[   \n",
       "\n",
       "  county_connections_ratio    pp_total_raw        time    lp_id  pct_access  \\\n",
       "0                [0.18, 1[  [14000, 16000[  2020-01-27  32213.0      100.00   \n",
       "1                [0.18, 1[  [14000, 16000[  2020-02-25  90153.0       33.33   \n",
       "2                [0.18, 1[  [14000, 16000[  2020-02-25  99916.0        0.00   \n",
       "3                [0.18, 1[  [14000, 16000[  2020-02-25  28504.0        0.00   \n",
       "4                [0.18, 1[  [14000, 16000[  2020-02-25  95731.0       33.33   \n",
       "\n",
       "   engagement_index  \n",
       "0           3000.00  \n",
       "1           2666.67  \n",
       "2               NaN  \n",
       "3               NaN  \n",
       "4            333.33  "
      ]
     },
     "execution_count": 24,
     "metadata": {},
     "output_type": "execute_result"
    }
   ],
   "source": [
    "dis_eng_data.head()"
   ]
  },
  {
   "cell_type": "code",
   "execution_count": 25,
   "metadata": {},
   "outputs": [
    {
     "data": {
      "text/plain": [
       "district_id                       0\n",
       "state                             0\n",
       "locale                            0\n",
       "pct_black/hispanic                0\n",
       "pct_free/reduced            2444553\n",
       "county_connections_ratio    1429717\n",
       "pp_total_raw                5207173\n",
       "time                              0\n",
       "lp_id                           399\n",
       "pct_access                     7362\n",
       "engagement_index            4297347\n",
       "dtype: int64"
      ]
     },
     "execution_count": 25,
     "metadata": {},
     "output_type": "execute_result"
    }
   ],
   "source": [
    "dis_eng_data.isnull().sum()"
   ]
  },
  {
   "cell_type": "code",
   "execution_count": 26,
   "metadata": {},
   "outputs": [
    {
     "data": {
      "text/plain": [
       "(17435744, 11)"
      ]
     },
     "execution_count": 26,
     "metadata": {},
     "output_type": "execute_result"
    }
   ],
   "source": [
    "dis_eng_data.shape"
   ]
  },
  {
   "cell_type": "code",
   "execution_count": 27,
   "metadata": {},
   "outputs": [],
   "source": [
    "dis_eng_data=dis_eng_data[dis_eng_data['engagement_index'].notna()]"
   ]
  },
  {
   "cell_type": "code",
   "execution_count": 28,
   "metadata": {},
   "outputs": [
    {
     "data": {
      "text/plain": [
       "(13138397, 11)"
      ]
     },
     "execution_count": 28,
     "metadata": {},
     "output_type": "execute_result"
    }
   ],
   "source": [
    "dis_eng_data.shape"
   ]
  },
  {
   "cell_type": "code",
   "execution_count": 31,
   "metadata": {},
   "outputs": [],
   "source": [
    "df1=dis_eng_data[['district_id']+['state']+['pct_access']+['engagement_index']]"
   ]
  },
  {
   "cell_type": "code",
   "execution_count": 32,
   "metadata": {},
   "outputs": [
    {
     "data": {
      "text/html": [
       "<div>\n",
       "<style scoped>\n",
       "    .dataframe tbody tr th:only-of-type {\n",
       "        vertical-align: middle;\n",
       "    }\n",
       "\n",
       "    .dataframe tbody tr th {\n",
       "        vertical-align: top;\n",
       "    }\n",
       "\n",
       "    .dataframe thead th {\n",
       "        text-align: right;\n",
       "    }\n",
       "</style>\n",
       "<table border=\"1\" class=\"dataframe\">\n",
       "  <thead>\n",
       "    <tr style=\"text-align: right;\">\n",
       "      <th></th>\n",
       "      <th>district_id</th>\n",
       "      <th>state</th>\n",
       "      <th>pct_access</th>\n",
       "      <th>engagement_index</th>\n",
       "    </tr>\n",
       "  </thead>\n",
       "  <tbody>\n",
       "    <tr>\n",
       "      <th>0</th>\n",
       "      <td>8815</td>\n",
       "      <td>Illinois</td>\n",
       "      <td>100.00</td>\n",
       "      <td>3000.00</td>\n",
       "    </tr>\n",
       "    <tr>\n",
       "      <th>1</th>\n",
       "      <td>8815</td>\n",
       "      <td>Illinois</td>\n",
       "      <td>33.33</td>\n",
       "      <td>2666.67</td>\n",
       "    </tr>\n",
       "    <tr>\n",
       "      <th>4</th>\n",
       "      <td>8815</td>\n",
       "      <td>Illinois</td>\n",
       "      <td>33.33</td>\n",
       "      <td>333.33</td>\n",
       "    </tr>\n",
       "    <tr>\n",
       "      <th>5</th>\n",
       "      <td>8815</td>\n",
       "      <td>Illinois</td>\n",
       "      <td>25.00</td>\n",
       "      <td>1750.00</td>\n",
       "    </tr>\n",
       "    <tr>\n",
       "      <th>6</th>\n",
       "      <td>8815</td>\n",
       "      <td>Illinois</td>\n",
       "      <td>25.00</td>\n",
       "      <td>1750.00</td>\n",
       "    </tr>\n",
       "  </tbody>\n",
       "</table>\n",
       "</div>"
      ],
      "text/plain": [
       "   district_id     state  pct_access  engagement_index\n",
       "0         8815  Illinois      100.00           3000.00\n",
       "1         8815  Illinois       33.33           2666.67\n",
       "4         8815  Illinois       33.33            333.33\n",
       "5         8815  Illinois       25.00           1750.00\n",
       "6         8815  Illinois       25.00           1750.00"
      ]
     },
     "execution_count": 32,
     "metadata": {},
     "output_type": "execute_result"
    }
   ],
   "source": [
    "df1.head()"
   ]
  },
  {
   "cell_type": "code",
   "execution_count": 33,
   "metadata": {},
   "outputs": [
    {
     "data": {
      "text/html": [
       "<div>\n",
       "<style scoped>\n",
       "    .dataframe tbody tr th:only-of-type {\n",
       "        vertical-align: middle;\n",
       "    }\n",
       "\n",
       "    .dataframe tbody tr th {\n",
       "        vertical-align: top;\n",
       "    }\n",
       "\n",
       "    .dataframe thead th {\n",
       "        text-align: right;\n",
       "    }\n",
       "</style>\n",
       "<table border=\"1\" class=\"dataframe\">\n",
       "  <thead>\n",
       "    <tr style=\"text-align: right;\">\n",
       "      <th></th>\n",
       "      <th></th>\n",
       "      <th>pct_access</th>\n",
       "      <th>engagement_index</th>\n",
       "    </tr>\n",
       "    <tr>\n",
       "      <th>state</th>\n",
       "      <th>district_id</th>\n",
       "      <th></th>\n",
       "      <th></th>\n",
       "    </tr>\n",
       "  </thead>\n",
       "  <tbody>\n",
       "    <tr>\n",
       "      <th>Arizona</th>\n",
       "      <th>9007</th>\n",
       "      <td>2.515770</td>\n",
       "      <td>740.788101</td>\n",
       "    </tr>\n",
       "    <tr>\n",
       "      <th rowspan=\"4\" valign=\"top\">California</th>\n",
       "      <th>1570</th>\n",
       "      <td>0.739859</td>\n",
       "      <td>122.185603</td>\n",
       "    </tr>\n",
       "    <tr>\n",
       "      <th>2074</th>\n",
       "      <td>0.173013</td>\n",
       "      <td>56.323151</td>\n",
       "    </tr>\n",
       "    <tr>\n",
       "      <th>2106</th>\n",
       "      <td>0.246275</td>\n",
       "      <td>80.751393</td>\n",
       "    </tr>\n",
       "    <tr>\n",
       "      <th>2172</th>\n",
       "      <td>0.896596</td>\n",
       "      <td>315.531892</td>\n",
       "    </tr>\n",
       "    <tr>\n",
       "      <th>...</th>\n",
       "      <th>...</th>\n",
       "      <td>...</td>\n",
       "      <td>...</td>\n",
       "    </tr>\n",
       "    <tr>\n",
       "      <th rowspan=\"2\" valign=\"top\">Washington</th>\n",
       "      <th>5510</th>\n",
       "      <td>0.249346</td>\n",
       "      <td>43.112281</td>\n",
       "    </tr>\n",
       "    <tr>\n",
       "      <th>7457</th>\n",
       "      <td>0.383513</td>\n",
       "      <td>92.941954</td>\n",
       "    </tr>\n",
       "    <tr>\n",
       "      <th rowspan=\"3\" valign=\"top\">Wisconsin</th>\n",
       "      <th>5987</th>\n",
       "      <td>0.965954</td>\n",
       "      <td>242.227487</td>\n",
       "    </tr>\n",
       "    <tr>\n",
       "      <th>7752</th>\n",
       "      <td>0.913565</td>\n",
       "      <td>198.121378</td>\n",
       "    </tr>\n",
       "    <tr>\n",
       "      <th>8902</th>\n",
       "      <td>2.001604</td>\n",
       "      <td>439.471291</td>\n",
       "    </tr>\n",
       "  </tbody>\n",
       "</table>\n",
       "<p>176 rows × 2 columns</p>\n",
       "</div>"
      ],
      "text/plain": [
       "                        pct_access  engagement_index\n",
       "state      district_id                              \n",
       "Arizona    9007           2.515770        740.788101\n",
       "California 1570           0.739859        122.185603\n",
       "           2074           0.173013         56.323151\n",
       "           2106           0.246275         80.751393\n",
       "           2172           0.896596        315.531892\n",
       "...                            ...               ...\n",
       "Washington 5510           0.249346         43.112281\n",
       "           7457           0.383513         92.941954\n",
       "Wisconsin  5987           0.965954        242.227487\n",
       "           7752           0.913565        198.121378\n",
       "           8902           2.001604        439.471291\n",
       "\n",
       "[176 rows x 2 columns]"
      ]
     },
     "execution_count": 33,
     "metadata": {},
     "output_type": "execute_result"
    }
   ],
   "source": [
    "df1.groupby(['state','district_id']).mean()"
   ]
  },
  {
   "cell_type": "code",
   "execution_count": 35,
   "metadata": {},
   "outputs": [],
   "source": [
    "df2=dis_eng_data[['state']+['pct_access']+['engagement_index']]"
   ]
  },
  {
   "cell_type": "code",
   "execution_count": 36,
   "metadata": {},
   "outputs": [
    {
     "data": {
      "text/html": [
       "<div>\n",
       "<style scoped>\n",
       "    .dataframe tbody tr th:only-of-type {\n",
       "        vertical-align: middle;\n",
       "    }\n",
       "\n",
       "    .dataframe tbody tr th {\n",
       "        vertical-align: top;\n",
       "    }\n",
       "\n",
       "    .dataframe thead th {\n",
       "        text-align: right;\n",
       "    }\n",
       "</style>\n",
       "<table border=\"1\" class=\"dataframe\">\n",
       "  <thead>\n",
       "    <tr style=\"text-align: right;\">\n",
       "      <th></th>\n",
       "      <th>pct_access</th>\n",
       "      <th>engagement_index</th>\n",
       "    </tr>\n",
       "    <tr>\n",
       "      <th>state</th>\n",
       "      <th></th>\n",
       "      <th></th>\n",
       "    </tr>\n",
       "  </thead>\n",
       "  <tbody>\n",
       "    <tr>\n",
       "      <th>Arizona</th>\n",
       "      <td>2.515770</td>\n",
       "      <td>740.788101</td>\n",
       "    </tr>\n",
       "    <tr>\n",
       "      <th>California</th>\n",
       "      <td>0.465093</td>\n",
       "      <td>113.330664</td>\n",
       "    </tr>\n",
       "    <tr>\n",
       "      <th>Connecticut</th>\n",
       "      <td>0.954149</td>\n",
       "      <td>257.456419</td>\n",
       "    </tr>\n",
       "    <tr>\n",
       "      <th>District Of Columbia</th>\n",
       "      <td>1.116069</td>\n",
       "      <td>261.397662</td>\n",
       "    </tr>\n",
       "    <tr>\n",
       "      <th>Florida</th>\n",
       "      <td>0.282563</td>\n",
       "      <td>64.088064</td>\n",
       "    </tr>\n",
       "    <tr>\n",
       "      <th>Illinois</th>\n",
       "      <td>0.762023</td>\n",
       "      <td>200.544588</td>\n",
       "    </tr>\n",
       "    <tr>\n",
       "      <th>Indiana</th>\n",
       "      <td>0.926041</td>\n",
       "      <td>221.990979</td>\n",
       "    </tr>\n",
       "    <tr>\n",
       "      <th>Massachusetts</th>\n",
       "      <td>0.794039</td>\n",
       "      <td>217.493218</td>\n",
       "    </tr>\n",
       "    <tr>\n",
       "      <th>Michigan</th>\n",
       "      <td>0.445249</td>\n",
       "      <td>104.451529</td>\n",
       "    </tr>\n",
       "    <tr>\n",
       "      <th>Minnesota</th>\n",
       "      <td>0.679541</td>\n",
       "      <td>160.833411</td>\n",
       "    </tr>\n",
       "    <tr>\n",
       "      <th>Missouri</th>\n",
       "      <td>0.405518</td>\n",
       "      <td>88.400098</td>\n",
       "    </tr>\n",
       "    <tr>\n",
       "      <th>New Hampshire</th>\n",
       "      <td>1.235999</td>\n",
       "      <td>328.008548</td>\n",
       "    </tr>\n",
       "    <tr>\n",
       "      <th>New Jersey</th>\n",
       "      <td>0.607488</td>\n",
       "      <td>151.081847</td>\n",
       "    </tr>\n",
       "    <tr>\n",
       "      <th>New York</th>\n",
       "      <td>1.835287</td>\n",
       "      <td>530.183330</td>\n",
       "    </tr>\n",
       "    <tr>\n",
       "      <th>North Carolina</th>\n",
       "      <td>0.276720</td>\n",
       "      <td>76.842376</td>\n",
       "    </tr>\n",
       "    <tr>\n",
       "      <th>North Dakota</th>\n",
       "      <td>3.323983</td>\n",
       "      <td>423.002601</td>\n",
       "    </tr>\n",
       "    <tr>\n",
       "      <th>Ohio</th>\n",
       "      <td>0.661547</td>\n",
       "      <td>148.917549</td>\n",
       "    </tr>\n",
       "    <tr>\n",
       "      <th>Tennessee</th>\n",
       "      <td>0.416389</td>\n",
       "      <td>72.697953</td>\n",
       "    </tr>\n",
       "    <tr>\n",
       "      <th>Texas</th>\n",
       "      <td>0.268546</td>\n",
       "      <td>73.514148</td>\n",
       "    </tr>\n",
       "    <tr>\n",
       "      <th>Utah</th>\n",
       "      <td>0.511694</td>\n",
       "      <td>119.971871</td>\n",
       "    </tr>\n",
       "    <tr>\n",
       "      <th>Virginia</th>\n",
       "      <td>0.440429</td>\n",
       "      <td>98.533299</td>\n",
       "    </tr>\n",
       "    <tr>\n",
       "      <th>Washington</th>\n",
       "      <td>0.347421</td>\n",
       "      <td>76.234729</td>\n",
       "    </tr>\n",
       "    <tr>\n",
       "      <th>Wisconsin</th>\n",
       "      <td>1.054281</td>\n",
       "      <td>246.439945</td>\n",
       "    </tr>\n",
       "  </tbody>\n",
       "</table>\n",
       "</div>"
      ],
      "text/plain": [
       "                      pct_access  engagement_index\n",
       "state                                             \n",
       "Arizona                 2.515770        740.788101\n",
       "California              0.465093        113.330664\n",
       "Connecticut             0.954149        257.456419\n",
       "District Of Columbia    1.116069        261.397662\n",
       "Florida                 0.282563         64.088064\n",
       "Illinois                0.762023        200.544588\n",
       "Indiana                 0.926041        221.990979\n",
       "Massachusetts           0.794039        217.493218\n",
       "Michigan                0.445249        104.451529\n",
       "Minnesota               0.679541        160.833411\n",
       "Missouri                0.405518         88.400098\n",
       "New Hampshire           1.235999        328.008548\n",
       "New Jersey              0.607488        151.081847\n",
       "New York                1.835287        530.183330\n",
       "North Carolina          0.276720         76.842376\n",
       "North Dakota            3.323983        423.002601\n",
       "Ohio                    0.661547        148.917549\n",
       "Tennessee               0.416389         72.697953\n",
       "Texas                   0.268546         73.514148\n",
       "Utah                    0.511694        119.971871\n",
       "Virginia                0.440429         98.533299\n",
       "Washington              0.347421         76.234729\n",
       "Wisconsin               1.054281        246.439945"
      ]
     },
     "execution_count": 36,
     "metadata": {},
     "output_type": "execute_result"
    }
   ],
   "source": [
    "df2.groupby(['state']).mean()"
   ]
  },
  {
   "cell_type": "code",
   "execution_count": 38,
   "metadata": {},
   "outputs": [],
   "source": [
    "df2.to_csv('engagement_by_state.csv', index=False)"
   ]
  },
  {
   "cell_type": "code",
   "execution_count": 39,
   "metadata": {},
   "outputs": [],
   "source": [
    "df1.to_csv('engagement_by_district_id.csv', index=False)"
   ]
  },
  {
   "cell_type": "code",
   "execution_count": null,
   "metadata": {},
   "outputs": [],
   "source": []
  }
 ],
 "metadata": {
  "kernelspec": {
   "display_name": "Python 3",
   "language": "python",
   "name": "python3"
  },
  "language_info": {
   "codemirror_mode": {
    "name": "ipython",
    "version": 3
   },
   "file_extension": ".py",
   "mimetype": "text/x-python",
   "name": "python",
   "nbconvert_exporter": "python",
   "pygments_lexer": "ipython3",
   "version": "3.8.3"
  }
 },
 "nbformat": 4,
 "nbformat_minor": 4
}
